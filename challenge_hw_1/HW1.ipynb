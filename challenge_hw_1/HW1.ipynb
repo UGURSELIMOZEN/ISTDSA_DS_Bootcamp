{
 "cells": [
  {
   "cell_type": "markdown",
   "id": "c47c2730-fafe-49f4-985e-ee36dbd19ca9",
   "metadata": {
    "tags": []
   },
   "source": [
    "## PAIRS HOMEWORK \n",
    "\n",
    "Topic   : Pairs HW\n",
    "\n",
    "Subject : FizzBuzz and Pair Programming Problems\n",
    "\n",
    "Date    : 10/18/2021 \n",
    "\n",
    "Name    : Ugur Selim Ozen"
   ]
  },
  {
   "cell_type": "markdown",
   "id": "98275726-e4e3-4896-b969-084c08a42e6f",
   "metadata": {
    "tags": []
   },
   "source": [
    "#### Q-1 (FizzBuzz Problem)"
   ]
  },
  {
   "cell_type": "markdown",
   "id": "70bd6494-8017-4621-910f-095c20b04acb",
   "metadata": {
    "tags": []
   },
   "source": [
    "\n",
    "\n",
    "This is _Fizz Buzz_. It is perhaps the most well-known interview programming problem. You're not super likely to see this exact problem in an interview, but you should be familiar with it, and certainly able to solve it.\n",
    "\n",
    "> ##### Write a program that prints the numbers from 1 to 100. But for multiples of three print “Fizz” instead of the number and for the multiples of five print “Buzz”. For numbers which are multiples of both three and five print “FizzBuzz”.\n",
    "\n",
    "For example, the output (just for the section 8 to 16) could look like this:\n",
    "\n",
    "```\n",
    "8\n",
    "Fizz\n",
    "Buzz\n",
    "11\n",
    "Fizz\n",
    "13\n",
    "14\n",
    "FizzBuzz\n",
    "16\n",
    "```"
   ]
  },
  {
   "cell_type": "code",
   "execution_count": 66,
   "id": "aa92dcb0-cf05-408c-a7da-853b7f955781",
   "metadata": {
    "tags": []
   },
   "outputs": [
    {
     "name": "stdout",
     "output_type": "stream",
     "text": [
      "1\n",
      "2\n",
      "Fizz\n",
      "4\n",
      "Buzz\n",
      "Fizz\n",
      "7\n",
      "8\n",
      "Fizz\n",
      "Buzz\n",
      "11\n",
      "Fizz\n",
      "13\n",
      "14\n",
      "FizzBuzz\n",
      "16\n",
      "17\n",
      "Fizz\n",
      "19\n",
      "Buzz\n",
      "Fizz\n",
      "22\n",
      "23\n",
      "Fizz\n",
      "Buzz\n",
      "26\n",
      "Fizz\n",
      "28\n",
      "29\n",
      "FizzBuzz\n",
      "31\n",
      "32\n",
      "Fizz\n",
      "34\n",
      "Buzz\n",
      "Fizz\n",
      "37\n",
      "38\n",
      "Fizz\n",
      "Buzz\n",
      "41\n",
      "Fizz\n",
      "43\n",
      "44\n",
      "FizzBuzz\n",
      "46\n",
      "47\n",
      "Fizz\n",
      "49\n",
      "Buzz\n",
      "Fizz\n",
      "52\n",
      "53\n",
      "Fizz\n",
      "Buzz\n",
      "56\n",
      "Fizz\n",
      "58\n",
      "59\n",
      "FizzBuzz\n",
      "61\n",
      "62\n",
      "Fizz\n",
      "64\n",
      "Buzz\n",
      "Fizz\n",
      "67\n",
      "68\n",
      "Fizz\n",
      "Buzz\n",
      "71\n",
      "Fizz\n",
      "73\n",
      "74\n",
      "FizzBuzz\n",
      "76\n",
      "77\n",
      "Fizz\n",
      "79\n",
      "Buzz\n",
      "Fizz\n",
      "82\n",
      "83\n",
      "Fizz\n",
      "Buzz\n",
      "86\n",
      "Fizz\n",
      "88\n",
      "89\n",
      "FizzBuzz\n",
      "91\n",
      "92\n",
      "Fizz\n",
      "94\n",
      "Buzz\n",
      "Fizz\n",
      "97\n",
      "98\n",
      "Fizz\n",
      "Buzz\n"
     ]
    }
   ],
   "source": [
    "def print_three_five_multipliers(starting_number , ending_number) :\n",
    "        \n",
    "        for i in range(starting_number , ending_number + 1) :\n",
    "            if (i % 3 == 0)  & (i % 5 != 0) :\n",
    "                print(\"Fizz\")   \n",
    "            elif (i % 5 == 0)  & (i % 3 != 0) :\n",
    "                print(\"Buzz\")\n",
    "            elif (i % 3 == 0) &  (i % 5 == 0) :\n",
    "                print(\"FizzBuzz\")\n",
    "            elif (i % 3 != 0) &  (i % 5 != 0) :\n",
    "                print(i)\n",
    "\n",
    "print_three_five_multipliers(1,100)"
   ]
  },
  {
   "cell_type": "markdown",
   "id": "0fb2da39-2efa-4652-9fd0-534a6eaeeb91",
   "metadata": {},
   "source": [
    "#### Q-2 (Pair Programming Problem)"
   ]
  },
  {
   "cell_type": "markdown",
   "id": "5648e049-c5b5-45fb-9bfa-7c7e10fdb1d9",
   "metadata": {},
   "source": [
    "[Pairing](http://guide.agilealliance.org/guide/pairing.html), ideally, is good for both participants and for the work they produce.\n",
    "\n",
    "We would like to have everyone do some morning pairing with everyone else.\n",
    "\n",
    "\n",
    "#### Demo Problem\n",
    "\n",
    "The first problem is to determine a schedule of pairings so that everyone has a pair every day, and everyone eventually pairs with everyone else.\n",
    "\n",
    "##### Write a function that takes a list of names and returns a list of lists of tuples representing pairs. (Assume an even number of names, all distinct.) For example:\n",
    "\n",
    "```\n",
    ">>> pairs_for(['Andrea', 'Bob', 'Cassandra', 'Doug'])\n",
    "# [[('Bob', 'Cassandra'), ('Andrea', 'Doug')],\n",
    "#  [('Andrea', 'Bob'), ('Cassandra', 'Doug')],\n",
    "#  [('Andrea', 'Cassandra'), ('Bob', 'Doug')]]\n",
    "```"
   ]
  },
  {
   "cell_type": "code",
   "execution_count": 69,
   "id": "db528be6-2e28-4bd9-b9e8-af594d6149c3",
   "metadata": {},
   "outputs": [
    {
     "name": "stdout",
     "output_type": "stream",
     "text": [
      "[[('Andrea', 'Bob'), ('Cassandra', 'Doug')],\n",
      " [('Andrea', 'Cassandra'), ('Bob', 'Doug')],\n",
      " [('Andrea', 'Doug'), ('Bob', 'Cassandra')]]\n"
     ]
    }
   ],
   "source": [
    "import itertools\n",
    "from pprint import pprint\n",
    "\n",
    "def pairs_for(person_list) :\n",
    "    \n",
    "    if len(person_list) == 0 :\n",
    "        print(\"This name list is empty , please fill the list and send again !\")\n",
    "        \n",
    "    \n",
    "    elif len(person_list) % 2 != 0 : \n",
    "        print(\"Please give a name list with even number of person !\")\n",
    "        \n",
    "    \n",
    "    elif len(person_list) != len(set(person_list)) :\n",
    "        print(\"Please give a name list with unique person name !\")\n",
    "        \n",
    "    else :\n",
    "        result = []\n",
    "        for combination in itertools.permutations(person_list):\n",
    "            pair = sorted([tuple(sorted(combine)) for combine in zip(combination[0::2],combination[1::2])])\n",
    "            if pair not in result:\n",
    "                result.append(pair)\n",
    "\n",
    "        pprint(result)\n",
    "        \n",
    "pairs_for(['Andrea', 'Bob', 'Cassandra', 'Doug'])"
   ]
  },
  {
   "cell_type": "code",
   "execution_count": null,
   "id": "3bd2980c-4997-4813-b8f2-33fa941f3987",
   "metadata": {},
   "outputs": [],
   "source": []
  }
 ],
 "metadata": {
  "kernelspec": {
   "display_name": "Python 3 (ipykernel)",
   "language": "python",
   "name": "python3"
  },
  "language_info": {
   "codemirror_mode": {
    "name": "ipython",
    "version": 3
   },
   "file_extension": ".py",
   "mimetype": "text/x-python",
   "name": "python",
   "nbconvert_exporter": "python",
   "pygments_lexer": "ipython3",
   "version": "3.9.7"
  }
 },
 "nbformat": 4,
 "nbformat_minor": 5
}
